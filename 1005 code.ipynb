{
 "cells": [
  {
   "cell_type": "code",
   "execution_count": null,
   "metadata": {},
   "outputs": [],
   "source": [
    "# 배열 원소의 길이\n",
    "# 배열이 주어질 때 각 원소의 길이를 구하는 문제\n",
    "\n",
    "def solution(strlist):\n",
    "\n",
    "    # 배열에서 각 원소를 가져와서 길이를 새로운 배열에 저장\n",
    "    answer = [len(item) for item in strlist]\n",
    "\n",
    "    return answer"
   ]
  },
  {
   "cell_type": "code",
   "execution_count": null,
   "metadata": {},
   "outputs": [],
   "source": [
    "# 컨트롤 제트\n",
    "\n",
    "# 숫자와 'Z' 로 구성된 배열이 주어질 때\n",
    "# 'Z' 앞의 숫자는 제외하고 나머지만 모두 더하는 문제\n",
    "\n",
    "def solution(s):\n",
    "    answer = 0\n",
    "    \n",
    "    # 사이의 공백을 기준으로 구분\n",
    "    temp = s.split(' ')\n",
    "\n",
    "    for index in range(len(temp) -1):\n",
    "        t = temp[index]\n",
    "        # 뒤의 인덱스가 Z 인지 판별\n",
    "        if temp[index +1] == 'Z':\n",
    "            pass\n",
    "        else:\n",
    "            if t == 'Z':\n",
    "                pass\n",
    "            # 뒤가 Z 가 아니면서 현재가 숫자이면 더함\n",
    "            else:\n",
    "                answer += int(t)\n",
    "\n",
    "    # 가장 마지막이 숫자이면 더함\n",
    "    if temp[-1] != 'Z':\n",
    "        answer += int(temp[-1])\n",
    "               \n",
    "    return answer"
   ]
  }
 ],
 "metadata": {
  "language_info": {
   "name": "python"
  },
  "orig_nbformat": 4
 },
 "nbformat": 4,
 "nbformat_minor": 2
}
